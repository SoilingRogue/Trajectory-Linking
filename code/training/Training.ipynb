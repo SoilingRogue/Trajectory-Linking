{
 "cells": [
  {
   "cell_type": "code",
   "execution_count": 147,
   "metadata": {},
   "outputs": [],
   "source": [
    "import numpy as np\n",
    "import pandas as pd\n",
    "import glob\n",
    "import random\n",
    "import time\n",
    "import keras\n",
    "\n",
    "from keras.models import Sequential\n",
    "from keras.layers import Dense\n",
    "\n",
    "from sklearn.ensemble import RandomForestClassifier\n",
    "from sklearn.svm import SVC\n",
    "from joblib import dump"
   ]
  },
  {
   "cell_type": "code",
   "execution_count": 156,
   "metadata": {},
   "outputs": [
    {
     "name": "stdout",
     "output_type": "stream",
     "text": [
      "True True True\n"
     ]
    }
   ],
   "source": [
    "## Time24 ##\n",
    "records24 = pd.read_csv(r'C:\\Users\\User\\Desktop\\Stanley\\time24\\data\\records24.txt', sep = \",\", header = None)\n",
    "norm_records24 = pd.read_csv(r'C:\\Users\\User\\Desktop\\Stanley\\time24\\data\\normRecords24.txt', sep = \",\", header = None)\n",
    "labels24 = pd.read_csv(r'C:\\Users\\User\\Desktop\\Stanley\\time24\\data\\labels24.txt', sep = \",\", header = None)\n",
    "\n",
    "print(records24.notnull().values.all(), norm_records24.notnull().values.all(), labels24.notnull().values.all())"
   ]
  },
  {
   "cell_type": "code",
   "execution_count": 157,
   "metadata": {},
   "outputs": [],
   "source": [
    "header = [\"Mean\", \"Stdev\", \"Over60\", \"O60U120\", \"Over120\", \"Skewness\", \"Kurtosis\", \"Entropy\", \"Q1\", \"Q2\", \"Q3\", \"Q4\", \"Q5\", \"Q6\", \"Q7\", \"Q8\", \"Q9\"]\n",
    "records24.columns = header\n",
    "norm_records24.columns = header\n",
    "labels24.columns = [\"Label\"]"
   ]
  },
  {
   "cell_type": "code",
   "execution_count": 158,
   "metadata": {},
   "outputs": [],
   "source": [
    "def normalize(df):\n",
    "    result = df.copy()\n",
    "    for feature_name in df.columns:\n",
    "        max_value = df[feature_name].max()\n",
    "        min_value = df[feature_name].min()\n",
    "        result[feature_name] = (df[feature_name] - min_value) / (max_value - min_value)\n",
    "    return result"
   ]
  },
  {
   "cell_type": "code",
   "execution_count": 168,
   "metadata": {},
   "outputs": [
    {
     "data": {
      "text/plain": [
       "5974"
      ]
     },
     "execution_count": 168,
     "metadata": {},
     "output_type": "execute_result"
    }
   ],
   "source": [
    "reshapedLabels24 = labels24.values.reshape(1, -1)\n",
    "reshapedLabels24 = reshapedLabels24[0]\n",
    "len(reshapedLabels24)"
   ]
  },
  {
   "cell_type": "code",
   "execution_count": 169,
   "metadata": {},
   "outputs": [
    {
     "name": "stdout",
     "output_type": "stream",
     "text": [
      "Time used: 3.46875\n",
      "Time used: 3.21875\n"
     ]
    }
   ],
   "source": [
    "start = time.process_time()\n",
    "\n",
    "########## randomforest################# non-normalized data\n",
    "clf = RandomForestClassifier(n_estimators=500, max_depth=3, random_state=0)\n",
    "clf.fit(records24, reshapedLabels24)\n",
    "dump(clf, 'randomforest24.joblib')\n",
    "\n",
    "elapsed = (time.process_time() - start)\n",
    "print(\"Time used:\", elapsed)\n",
    "\n",
    "start = time.process_time()\n",
    "\n",
    "########## randomforest################# normalized data\n",
    "clf = RandomForestClassifier(n_estimators=500, max_depth=3, random_state=0)\n",
    "clf.fit(norm_records24, reshapedLabels24)\n",
    "dump(clf, 'randomforest24norm.joblib')\n",
    "\n",
    "elapsed = (time.process_time() - start)\n",
    "print(\"Time used:\", elapsed)"
   ]
  },
  {
   "cell_type": "code",
   "execution_count": 185,
   "metadata": {},
   "outputs": [
    {
     "data": {
      "text/plain": [
       "{(0.0, 'Kurtosis'),\n",
       " (1.3387708855205538e-06, 'Entropy'),\n",
       " (4.013530717887129e-06, 'Skewness'),\n",
       " (0.006004016229854853, 'O60U120'),\n",
       " (0.027998661317914723, 'Stdev'),\n",
       " (0.029991972946235308, 'Over120'),\n",
       " (0.029994646474552557, 'Q9'),\n",
       " (0.04399598370594049, 'Q1'),\n",
       " (0.07, 'Q2'),\n",
       " (0.07599731906866862, 'Q3'),\n",
       " (0.08200401528728787, 'Mean'),\n",
       " (0.09400401579463168, 'Q6'),\n",
       " (0.102, 'Q5'),\n",
       " (0.10600133875108463, 'Over60'),\n",
       " (0.10600133931233688, 'Q8'),\n",
       " (0.112, 'Q4'),\n",
       " (0.114001338809889, 'Q7')}"
      ]
     },
     "execution_count": 185,
     "metadata": {},
     "output_type": "execute_result"
    }
   ],
   "source": [
    "from joblib import load\n",
    "clf = load(\"randomforest24.joblib\")\n",
    "\n",
    "lst24 = zip(clf.feature_importances_, header)\n",
    "lst24 = set(lst24)\n",
    "lst24"
   ]
  },
  {
   "cell_type": "code",
   "execution_count": 177,
   "metadata": {},
   "outputs": [
    {
     "name": "stdout",
     "output_type": "stream",
     "text": [
      "False True\n"
     ]
    }
   ],
   "source": [
    "## Time60 ##\n",
    "records60 = pd.read_csv(r'C:\\Users\\User\\Desktop\\Stanley\\time60\\data\\records60.txt', sep = \",\", header = None)\n",
    "labels60 = pd.read_csv(r'C:\\Users\\User\\Desktop\\Stanley\\time60\\data\\labels60.txt', sep = \",\", header = None)\n",
    "\n",
    "print(records60.notnull().values.all(), labels60.notnull().values.all())"
   ]
  },
  {
   "cell_type": "code",
   "execution_count": 178,
   "metadata": {},
   "outputs": [],
   "source": [
    "records60.columns = header\n",
    "labels60.columns = [\"Label\"]"
   ]
  },
  {
   "cell_type": "code",
   "execution_count": 179,
   "metadata": {},
   "outputs": [
    {
     "data": {
      "text/html": [
       "<div>\n",
       "<style scoped>\n",
       "    .dataframe tbody tr th:only-of-type {\n",
       "        vertical-align: middle;\n",
       "    }\n",
       "\n",
       "    .dataframe tbody tr th {\n",
       "        vertical-align: top;\n",
       "    }\n",
       "\n",
       "    .dataframe thead th {\n",
       "        text-align: right;\n",
       "    }\n",
       "</style>\n",
       "<table border=\"1\" class=\"dataframe\">\n",
       "  <thead>\n",
       "    <tr style=\"text-align: right;\">\n",
       "      <th></th>\n",
       "      <th>Mean</th>\n",
       "      <th>Stdev</th>\n",
       "      <th>Over60</th>\n",
       "      <th>O60U120</th>\n",
       "      <th>Over120</th>\n",
       "      <th>Skewness</th>\n",
       "      <th>Kurtosis</th>\n",
       "      <th>Entropy</th>\n",
       "      <th>Q1</th>\n",
       "      <th>Q2</th>\n",
       "      <th>Q3</th>\n",
       "      <th>Q4</th>\n",
       "      <th>Q5</th>\n",
       "      <th>Q6</th>\n",
       "      <th>Q7</th>\n",
       "      <th>Q8</th>\n",
       "      <th>Q9</th>\n",
       "    </tr>\n",
       "  </thead>\n",
       "  <tbody>\n",
       "    <tr>\n",
       "      <th>4321</th>\n",
       "      <td>0.012631</td>\n",
       "      <td>0.004689</td>\n",
       "      <td>0.333333</td>\n",
       "      <td>0.333333</td>\n",
       "      <td>0.0</td>\n",
       "      <td>0.743826</td>\n",
       "      <td>NaN</td>\n",
       "      <td>1.098612</td>\n",
       "      <td>0.008283</td>\n",
       "      <td>0.009126</td>\n",
       "      <td>0.009968</td>\n",
       "      <td>0.010811</td>\n",
       "      <td>0.011654</td>\n",
       "      <td>0.013083</td>\n",
       "      <td>0.014512</td>\n",
       "      <td>0.015942</td>\n",
       "      <td>0.017371</td>\n",
       "    </tr>\n",
       "  </tbody>\n",
       "</table>\n",
       "</div>"
      ],
      "text/plain": [
       "          Mean     Stdev    Over60   O60U120  Over120  Skewness  Kurtosis  \\\n",
       "4321  0.012631  0.004689  0.333333  0.333333      0.0  0.743826       NaN   \n",
       "\n",
       "       Entropy        Q1        Q2        Q3        Q4        Q5        Q6  \\\n",
       "4321  1.098612  0.008283  0.009126  0.009968  0.010811  0.011654  0.013083   \n",
       "\n",
       "            Q7        Q8        Q9  \n",
       "4321  0.014512  0.015942  0.017371  "
      ]
     },
     "execution_count": 179,
     "metadata": {},
     "output_type": "execute_result"
    }
   ],
   "source": [
    "records60[records60[\"Kurtosis\"].isna()]"
   ]
  },
  {
   "cell_type": "code",
   "execution_count": 180,
   "metadata": {},
   "outputs": [
    {
     "name": "stdout",
     "output_type": "stream",
     "text": [
      "(5973, 17) (5973, 1) (5974, 17)\n"
     ]
    }
   ],
   "source": [
    "processedRecords60 = records60.drop([4321])\n",
    "processedLabels60 = labels60.drop([4321])\n",
    "print(processedRecords60.shape, processedLabels60.shape, records60.shape)"
   ]
  },
  {
   "cell_type": "code",
   "execution_count": 181,
   "metadata": {},
   "outputs": [
    {
     "data": {
      "text/plain": [
       "True"
      ]
     },
     "execution_count": 181,
     "metadata": {},
     "output_type": "execute_result"
    }
   ],
   "source": [
    "processedRecords60.notnull().values.all()"
   ]
  },
  {
   "cell_type": "code",
   "execution_count": 182,
   "metadata": {},
   "outputs": [
    {
     "data": {
      "text/plain": [
       "5973"
      ]
     },
     "execution_count": 182,
     "metadata": {},
     "output_type": "execute_result"
    }
   ],
   "source": [
    "reshapedLabels60 = processedLabels60.values.reshape(1, -1)\n",
    "reshapedLabels60 = reshapedLabels60[0]\n",
    "len(reshapedLabels60)"
   ]
  },
  {
   "cell_type": "code",
   "execution_count": 183,
   "metadata": {},
   "outputs": [
    {
     "name": "stdout",
     "output_type": "stream",
     "text": [
      "Time used: 3.8125\n"
     ]
    }
   ],
   "source": [
    "start = time.process_time()\n",
    "\n",
    "########## randomforest################# non-normalized data\n",
    "clf = RandomForestClassifier(n_estimators=500, max_depth=3, random_state=0)\n",
    "clf.fit(processedRecords60, reshapedLabels60)\n",
    "dump(clf, 'randomforest60.joblib')\n",
    "\n",
    "elapsed = (time.process_time() - start)\n",
    "print(\"Time used:\", elapsed)"
   ]
  },
  {
   "cell_type": "code",
   "execution_count": 184,
   "metadata": {},
   "outputs": [
    {
     "data": {
      "text/plain": [
       "{(1.4875702490855338e-05, 'Entropy'),\n",
       " (2.1421235061060366e-05, 'Skewness'),\n",
       " (9.038993864557193e-05, 'Kurtosis'),\n",
       " (0.0039700195734025875, 'Q2'),\n",
       " (0.00411101637321715, 'Q1'),\n",
       " (0.005895328224793972, 'Q3'),\n",
       " (0.007861420665164239, 'Q4'),\n",
       " (0.009787195634056906, 'Q5'),\n",
       " (0.021654948521988834, 'Q6'),\n",
       " (0.02975212822934233, 'O60U120'),\n",
       " (0.05726698736096179, 'Q7'),\n",
       " (0.07593661116062717, 'Q8'),\n",
       " (0.1203253928732261, 'Stdev'),\n",
       " (0.13022493537421168, 'Over120'),\n",
       " (0.16035307422523873, 'Over60'),\n",
       " (0.17652303544800738, 'Q9'),\n",
       " (0.19621121945956374, 'Mean')}"
      ]
     },
     "execution_count": 184,
     "metadata": {},
     "output_type": "execute_result"
    }
   ],
   "source": [
    "lst60 = zip(clf.feature_importances_, header)\n",
    "lst60 = set(lst60)\n",
    "lst60"
   ]
  },
  {
   "cell_type": "code",
   "execution_count": 202,
   "metadata": {},
   "outputs": [
    {
     "name": "stdout",
     "output_type": "stream",
     "text": [
      "False True\n"
     ]
    }
   ],
   "source": [
    "## No restriction ##\n",
    "records = pd.read_csv(r'C:\\Users\\User\\Desktop\\Stanley\\data\\dataprocessing3\\records.txt', sep = \",\", header = None)\n",
    "labels = pd.read_csv(r'C:\\Users\\User\\Desktop\\Stanley\\data\\dataprocessing3\\labels.txt', sep = \",\", header = None)\n",
    "\n",
    "print(records.notnull().values.all(), labels.notnull().values.all())"
   ]
  },
  {
   "cell_type": "code",
   "execution_count": 203,
   "metadata": {},
   "outputs": [],
   "source": [
    "records.columns = header\n",
    "labels.columns = [\"Label\"]"
   ]
  },
  {
   "cell_type": "code",
   "execution_count": 205,
   "metadata": {},
   "outputs": [
    {
     "data": {
      "text/html": [
       "<div>\n",
       "<style scoped>\n",
       "    .dataframe tbody tr th:only-of-type {\n",
       "        vertical-align: middle;\n",
       "    }\n",
       "\n",
       "    .dataframe tbody tr th {\n",
       "        vertical-align: top;\n",
       "    }\n",
       "\n",
       "    .dataframe thead th {\n",
       "        text-align: right;\n",
       "    }\n",
       "</style>\n",
       "<table border=\"1\" class=\"dataframe\">\n",
       "  <thead>\n",
       "    <tr style=\"text-align: right;\">\n",
       "      <th></th>\n",
       "      <th>Mean</th>\n",
       "      <th>Stdev</th>\n",
       "      <th>Over60</th>\n",
       "      <th>O60U120</th>\n",
       "      <th>Over120</th>\n",
       "      <th>Skewness</th>\n",
       "      <th>Kurtosis</th>\n",
       "      <th>Entropy</th>\n",
       "      <th>Q1</th>\n",
       "      <th>Q2</th>\n",
       "      <th>Q3</th>\n",
       "      <th>Q4</th>\n",
       "      <th>Q5</th>\n",
       "      <th>Q6</th>\n",
       "      <th>Q7</th>\n",
       "      <th>Q8</th>\n",
       "      <th>Q9</th>\n",
       "    </tr>\n",
       "  </thead>\n",
       "  <tbody>\n",
       "    <tr>\n",
       "      <th>3411</th>\n",
       "      <td>0.000096</td>\n",
       "      <td>0.0</td>\n",
       "      <td>0.0</td>\n",
       "      <td>0.0</td>\n",
       "      <td>0.0</td>\n",
       "      <td>NaN</td>\n",
       "      <td>NaN</td>\n",
       "      <td>0.0</td>\n",
       "      <td>0.000096</td>\n",
       "      <td>0.000096</td>\n",
       "      <td>0.000096</td>\n",
       "      <td>0.000096</td>\n",
       "      <td>0.000096</td>\n",
       "      <td>0.000096</td>\n",
       "      <td>0.000096</td>\n",
       "      <td>0.000096</td>\n",
       "      <td>0.000096</td>\n",
       "    </tr>\n",
       "  </tbody>\n",
       "</table>\n",
       "</div>"
      ],
      "text/plain": [
       "          Mean  Stdev  Over60  O60U120  Over120  Skewness  Kurtosis  Entropy  \\\n",
       "3411  0.000096    0.0     0.0      0.0      0.0       NaN       NaN      0.0   \n",
       "\n",
       "            Q1        Q2        Q3        Q4        Q5        Q6        Q7  \\\n",
       "3411  0.000096  0.000096  0.000096  0.000096  0.000096  0.000096  0.000096   \n",
       "\n",
       "            Q8        Q9  \n",
       "3411  0.000096  0.000096  "
      ]
     },
     "execution_count": 205,
     "metadata": {},
     "output_type": "execute_result"
    }
   ],
   "source": [
    "records[records[\"Kurtosis\"].isna()]"
   ]
  },
  {
   "cell_type": "code",
   "execution_count": 206,
   "metadata": {},
   "outputs": [
    {
     "name": "stdout",
     "output_type": "stream",
     "text": [
      "(5973, 17) (5973, 1) (5974, 17)\n"
     ]
    }
   ],
   "source": [
    "processedRecords = records.drop([3411])\n",
    "processedLabels = labels.drop([3411])\n",
    "print(processedRecords.shape, processedLabels.shape, records.shape)"
   ]
  },
  {
   "cell_type": "code",
   "execution_count": 207,
   "metadata": {},
   "outputs": [
    {
     "data": {
      "text/plain": [
       "True"
      ]
     },
     "execution_count": 207,
     "metadata": {},
     "output_type": "execute_result"
    }
   ],
   "source": [
    "processedRecords.notnull().values.all()"
   ]
  },
  {
   "cell_type": "code",
   "execution_count": 208,
   "metadata": {},
   "outputs": [
    {
     "data": {
      "text/plain": [
       "5973"
      ]
     },
     "execution_count": 208,
     "metadata": {},
     "output_type": "execute_result"
    }
   ],
   "source": [
    "reshapedLabels = processedLabels.values.reshape(1, -1)\n",
    "reshapedLabels = reshapedLabels[0]\n",
    "len(reshapedLabels)"
   ]
  },
  {
   "cell_type": "code",
   "execution_count": 209,
   "metadata": {},
   "outputs": [
    {
     "name": "stdout",
     "output_type": "stream",
     "text": [
      "Time used: 4.671875\n"
     ]
    }
   ],
   "source": [
    "start = time.process_time()\n",
    "\n",
    "########## randomforest################# non-normalized data\n",
    "clf = RandomForestClassifier(n_estimators=500, max_depth=3, random_state=0)\n",
    "clf.fit(processedRecords, reshapedLabels)\n",
    "dump(clf, 'randomforest.joblib')\n",
    "\n",
    "elapsed = (time.process_time() - start)\n",
    "print(\"Time used:\", elapsed)"
   ]
  },
  {
   "cell_type": "code",
   "execution_count": 210,
   "metadata": {},
   "outputs": [
    {
     "data": {
      "text/plain": [
       "{(3.932332817880912e-05, 'Q4'),\n",
       " (4.221204295455723e-05, 'Q5'),\n",
       " (7.425991260295598e-05, 'Q3'),\n",
       " (0.0001232091285810579, 'Skewness'),\n",
       " (0.0025599024273423024, 'Kurtosis'),\n",
       " (0.0041307084835813706, 'Entropy'),\n",
       " (0.00790929082718596, 'Q6'),\n",
       " (0.008483559897585244, 'Q2'),\n",
       " (0.02539250696552356, 'Q1'),\n",
       " (0.02982864592135324, 'Q7'),\n",
       " (0.0445299230495108, 'Q8'),\n",
       " (0.06212633719511577, 'O60U120'),\n",
       " (0.10357531705249957, 'Mean'),\n",
       " (0.1208194739929636, 'Q9'),\n",
       " (0.18738593047505947, 'Over60'),\n",
       " (0.1899531028364005, 'Stdev'),\n",
       " (0.21302629646356114, 'Over120')}"
      ]
     },
     "execution_count": 210,
     "metadata": {},
     "output_type": "execute_result"
    }
   ],
   "source": [
    "lst = zip(clf.feature_importances_, header)\n",
    "lst = set(lst)\n",
    "lst"
   ]
  },
  {
   "cell_type": "code",
   "execution_count": 211,
   "metadata": {},
   "outputs": [
    {
     "data": {
      "text/plain": [
       "{(0.0, 'Kurtosis'),\n",
       " (1.3387708855205538e-06, 'Entropy'),\n",
       " (4.013530717887129e-06, 'Skewness'),\n",
       " (0.006004016229854853, 'O60U120'),\n",
       " (0.027998661317914723, 'Stdev'),\n",
       " (0.029991972946235308, 'Over120'),\n",
       " (0.029994646474552557, 'Q9'),\n",
       " (0.04399598370594049, 'Q1'),\n",
       " (0.07, 'Q2'),\n",
       " (0.07599731906866862, 'Q3'),\n",
       " (0.08200401528728787, 'Mean'),\n",
       " (0.09400401579463168, 'Q6'),\n",
       " (0.102, 'Q5'),\n",
       " (0.10600133875108463, 'Over60'),\n",
       " (0.10600133931233688, 'Q8'),\n",
       " (0.112, 'Q4'),\n",
       " (0.114001338809889, 'Q7')}"
      ]
     },
     "execution_count": 211,
     "metadata": {},
     "output_type": "execute_result"
    }
   ],
   "source": [
    "lst24"
   ]
  },
  {
   "cell_type": "code",
   "execution_count": 212,
   "metadata": {},
   "outputs": [
    {
     "data": {
      "text/plain": [
       "{(1.4875702490855338e-05, 'Entropy'),\n",
       " (2.1421235061060366e-05, 'Skewness'),\n",
       " (9.038993864557193e-05, 'Kurtosis'),\n",
       " (0.0039700195734025875, 'Q2'),\n",
       " (0.00411101637321715, 'Q1'),\n",
       " (0.005895328224793972, 'Q3'),\n",
       " (0.007861420665164239, 'Q4'),\n",
       " (0.009787195634056906, 'Q5'),\n",
       " (0.021654948521988834, 'Q6'),\n",
       " (0.02975212822934233, 'O60U120'),\n",
       " (0.05726698736096179, 'Q7'),\n",
       " (0.07593661116062717, 'Q8'),\n",
       " (0.1203253928732261, 'Stdev'),\n",
       " (0.13022493537421168, 'Over120'),\n",
       " (0.16035307422523873, 'Over60'),\n",
       " (0.17652303544800738, 'Q9'),\n",
       " (0.19621121945956374, 'Mean')}"
      ]
     },
     "execution_count": 212,
     "metadata": {},
     "output_type": "execute_result"
    }
   ],
   "source": [
    "lst60"
   ]
  },
  {
   "cell_type": "code",
   "execution_count": null,
   "metadata": {},
   "outputs": [],
   "source": []
  }
 ],
 "metadata": {
  "kernelspec": {
   "display_name": "Python 3",
   "language": "python",
   "name": "python3"
  },
  "language_info": {
   "codemirror_mode": {
    "name": "ipython",
    "version": 3
   },
   "file_extension": ".py",
   "mimetype": "text/x-python",
   "name": "python",
   "nbconvert_exporter": "python",
   "pygments_lexer": "ipython3",
   "version": "3.7.3"
  }
 },
 "nbformat": 4,
 "nbformat_minor": 2
}
