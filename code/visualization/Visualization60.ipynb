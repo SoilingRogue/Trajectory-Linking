{
 "cells": [
  {
   "cell_type": "code",
   "execution_count": 1,
   "metadata": {},
   "outputs": [],
   "source": [
    "import numpy as np\n",
    "import pandas as pd\n",
    "import glob"
   ]
  },
  {
   "cell_type": "code",
   "execution_count": 2,
   "metadata": {},
   "outputs": [],
   "source": [
    "def correct(df1, df2):\n",
    "    count = 0.0\n",
    "    size = len(df2)\n",
    "    if (len(df1) != size):\n",
    "        return -1\n",
    "    for i in range(size):\n",
    "        if df1.iloc[i, 0] == df2.iloc[i, 0]:\n",
    "            count = count + 1\n",
    "\n",
    "    return count / size\n",
    "\n",
    "def sort_rank(df, labels):\n",
    "    df = df.sort_values('Prob', ascending=False)\n",
    "    indexArr = df.index.values\n",
    "    idx = labels[labels[\"Label\"] == 1].index\n",
    "    if len(idx) == 0:\n",
    "        return -1\n",
    "    idx = idx[0]\n",
    "    for i in range(len(indexArr)):\n",
    "        if indexArr[i] == idx:\n",
    "            return i"
   ]
  },
  {
   "cell_type": "code",
   "execution_count": 12,
   "metadata": {},
   "outputs": [
    {
     "name": "stdout",
     "output_type": "stream",
     "text": [
      "6 6 6\n"
     ]
    },
    {
     "data": {
      "text/plain": [
       "[['SHC0734E', 1.0, 0],\n",
       " ['SHC0735C', 1.0, 0],\n",
       " ['SHC0736A', 1.0, 0],\n",
       " ['SHC0737Y', 1.0, 0],\n",
       " ['SHC0738U', 1.0, 0],\n",
       " ['SHC0739S', 1.0, 0]]"
      ]
     },
     "execution_count": 12,
     "metadata": {},
     "output_type": "execute_result"
    }
   ],
   "source": [
    "path =r'C:\\Users\\User\\Desktop\\Stanley\\Testing\\Data60'\n",
    "labelfiles = glob.glob(path + \"/*labels.txt\")\n",
    "preds = glob.glob(path + \"/*predictions.txt\")\n",
    "probs = glob.glob(path + \"/*probabilities.txt\")\n",
    "print(len(labelfiles), len(preds), len(probs)) #Ensure all files are present\n",
    "\n",
    "result = []\n",
    "\n",
    "for file in labelfiles:\n",
    "    temp = []\n",
    "    string = file.replace(path, '')[1: 9]\n",
    "#     print(string)\n",
    "    predspath = path + \"/\" + string + \"predictions.txt\"\n",
    "#     print(preds)\n",
    "    probspath = path + \"/\" + string + \"probabilities.txt\"\n",
    "    \n",
    "    ## Opening files ##\n",
    "    labels = pd.read_csv(file, header=None, usecols=[0], sep=',')\n",
    "    preds = pd.read_csv(predspath, header=None, sep=' ')\n",
    "    probs = pd.read_csv(probspath, header=None, sep=' ')\n",
    "    labels.columns = ['Label']\n",
    "    probs.columns = ['Prob']\n",
    "    \n",
    "    ## Processing ##\n",
    "    val = correct(labels, preds)\n",
    "    rank = sort_rank(probs, labels)\n",
    "    \n",
    "    ## Adding to temp, then to result ##\n",
    "    temp.append(string)\n",
    "    temp.append(val)\n",
    "    temp.append(rank)\n",
    "    result.append(temp)\n",
    "\n",
    "result"
   ]
  },
  {
   "cell_type": "code",
   "execution_count": null,
   "metadata": {},
   "outputs": [],
   "source": []
  }
 ],
 "metadata": {
  "kernelspec": {
   "display_name": "Python 3",
   "language": "python",
   "name": "python3"
  },
  "language_info": {
   "codemirror_mode": {
    "name": "ipython",
    "version": 3
   },
   "file_extension": ".py",
   "mimetype": "text/x-python",
   "name": "python",
   "nbconvert_exporter": "python",
   "pygments_lexer": "ipython3",
   "version": "3.7.3"
  }
 },
 "nbformat": 4,
 "nbformat_minor": 2
}
